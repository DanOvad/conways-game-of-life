{
 "cells": [
  {
   "cell_type": "code",
   "execution_count": 32,
   "metadata": {},
   "outputs": [],
   "source": [
    "import numpy as np\n",
    "\n",
    "import matplotlib as mpl\n",
    "import matplotlib.pyplot as plt  \n",
    "from matplotlib.animation import FuncAnimation \n",
    "from matplotlib import animation"
   ]
  },
  {
   "cell_type": "code",
   "execution_count": 3,
   "metadata": {},
   "outputs": [],
   "source": [
    "def count_neighbors_simple(A):\n",
    "    ''' This function takes in an array of ones and zeros, \n",
    "    and returns an array of the same shape with how many \n",
    "    cardinal neighbors each position has.\n",
    "    '''\n",
    "    # Determine the number of neighbors in each direction\n",
    "        # Yes if my neighbor is greater than me, or equal to me when I'm alive.\n",
    "    left_neigh = np.roll(A,1,axis=0) # Yes if my neighbor is alive.\n",
    "    right_neigh = np.roll(A,-1,axis=0)\n",
    "    up_neigh = np.roll(A,-1,axis=1)\n",
    "    down_neigh = np.roll(A,1,axis=1)\n",
    "    \n",
    "    up_left_neigh = np.roll(np.roll(A, 1, axis=1), 1, axis=0)\n",
    "    up_right_neigh = np.roll(np.roll(A, -1, axis=1), 1, axis=0)\n",
    "    down_left_neigh = np.roll(np.roll(A, 1, axis=1), -1, axis=0)\n",
    "    down_right_neigh = np.roll(np.roll(A, -1, axis=1), -1, axis=0)\n",
    "    \n",
    "    # Sum them up and return the array\n",
    "    sum_neigh = left_neigh + right_neigh + up_neigh + down_neigh + up_left_neigh + up_right_neigh + down_left_neigh + down_right_neigh\n",
    "    return sum_neigh"
   ]
  },
  {
   "cell_type": "code",
   "execution_count": 4,
   "metadata": {},
   "outputs": [],
   "source": [
    "def get_new_state(A):\n",
    "    # Get an array of neighbor count for each position\n",
    "    B = count_neighbors_simple(A)\n",
    "\n",
    "    # These are the positions to bring to life\n",
    "    Birth = (B == 3)*~A.astype(bool)\n",
    "    \n",
    "    # These are the positions to keep alive\n",
    "    Live = ((B==2) + (B==3))*A.astype(bool)\n",
    "    \n",
    "    # Combine them\n",
    "    return (Birth + Live).astype(int)"
   ]
  },
  {
   "cell_type": "markdown",
   "metadata": {},
   "source": [
    "### Defining our starting frame A"
   ]
  },
  {
   "cell_type": "code",
   "execution_count": 26,
   "metadata": {},
   "outputs": [
    {
     "data": {
      "text/plain": [
       "<matplotlib.image.AxesImage at 0x113f6a090>"
      ]
     },
     "execution_count": 26,
     "metadata": {},
     "output_type": "execute_result"
    },
    {
     "data": {
      "image/png": "[encoded data removed]",
      "text/plain": [
       "<Figure size 288x288 with 1 Axes>"
      ]
     },
     "metadata": {
      "needs_background": "light"
     },
     "output_type": "display_data"
    }
   ],
   "source": [
    "A = np.zeros(shape=(20,20))\n",
    "\n",
    "A[1,2] = 1\n",
    "A[2,3] = 1\n",
    "A[3,1:4]=1\n",
    "\n",
    "\n",
    "plt.matshow(A)"
   ]
  },
  {
   "cell_type": "code",
   "execution_count": 28,
   "metadata": {},
   "outputs": [],
   "source": [
    "def generate_series(A, n_frames):\n",
    "    \n",
    "    # First add in the first element\n",
    "    state_list = [A]\n",
    "    \n",
    "    # Iterate over the number of frames\n",
    "    for frame in range(n_frames):\n",
    "        state_list.append(get_new_state(state_list[frame]))\n",
    "        \n",
    "    # \n",
    "    mpl.rc('animation', html='jshtml')\n",
    "    fig, ax = plt.subplots()\n",
    "    plt.close()\n",
    "    #ims = onp.random.uniform(0, 1, size=[5, 28, 28])\n",
    "    ims = state_list #MNIST_IMAGES[:5]\n",
    "    ims = [[ax.imshow(im, animated=True)] for im in ims]\n",
    "    anim = mpl.animation.ArtistAnimation(fig, ims, interval=200)\n",
    "    anim.save(\"glider20x20-50frames.gif\", writer='imagemagick')\n",
    "    return anim"
   ]
  },
  {
   "cell_type": "code",
   "execution_count": 35,
   "metadata": {},
   "outputs": [
    {
     "data": {
      "text/plain": [
       "array([[0, 0, 0, 1, 0, 0, 0, 1, 0, 1, 0, 1, 0, 1, 1, 0, 1, 1, 1, 1],\n",
       "       [1, 1, 1, 1, 1, 1, 0, 1, 1, 1, 1, 0, 1, 1, 1, 1, 0, 0, 0, 0],\n",
       "       [1, 1, 1, 0, 1, 1, 1, 1, 1, 0, 1, 0, 0, 1, 0, 1, 1, 1, 1, 1],\n",
       "       [0, 1, 0, 0, 0, 1, 0, 0, 1, 1, 0, 0, 1, 0, 1, 1, 0, 0, 0, 0],\n",
       "       [1, 1, 1, 0, 0, 0, 0, 0, 1, 1, 0, 1, 1, 1, 0, 1, 0, 1, 0, 0],\n",
       "       [0, 1, 1, 1, 0, 0, 0, 1, 1, 0, 0, 0, 1, 1, 0, 0, 1, 1, 1, 0],\n",
       "       [0, 1, 1, 1, 1, 0, 1, 0, 1, 1, 1, 0, 1, 0, 1, 1, 0, 0, 0, 1],\n",
       "       [1, 0, 1, 1, 1, 0, 1, 0, 1, 1, 0, 1, 0, 1, 0, 0, 0, 1, 0, 0],\n",
       "       [0, 0, 1, 1, 0, 1, 1, 1, 0, 1, 1, 1, 1, 1, 0, 1, 1, 0, 1, 1],\n",
       "       [0, 1, 0, 0, 0, 1, 0, 0, 0, 0, 0, 0, 0, 1, 1, 0, 0, 1, 0, 1],\n",
       "       [0, 0, 0, 0, 0, 1, 1, 0, 0, 1, 0, 1, 1, 0, 1, 1, 1, 0, 1, 0],\n",
       "       [1, 1, 0, 1, 1, 1, 1, 1, 0, 0, 1, 1, 0, 0, 1, 1, 0, 1, 0, 0],\n",
       "       [0, 0, 0, 1, 0, 0, 1, 0, 1, 0, 0, 0, 1, 1, 0, 0, 1, 1, 0, 0],\n",
       "       [0, 1, 1, 0, 0, 0, 0, 1, 0, 0, 1, 1, 0, 1, 1, 1, 1, 1, 1, 0],\n",
       "       [1, 0, 1, 1, 1, 0, 1, 0, 1, 1, 1, 0, 0, 0, 0, 0, 0, 0, 1, 1],\n",
       "       [1, 0, 0, 1, 0, 1, 0, 1, 1, 0, 1, 1, 1, 1, 1, 0, 0, 0, 1, 0],\n",
       "       [1, 0, 1, 0, 0, 1, 0, 0, 1, 0, 0, 1, 1, 1, 0, 1, 0, 1, 1, 0],\n",
       "       [0, 0, 0, 0, 0, 1, 0, 0, 0, 0, 1, 0, 0, 1, 0, 1, 0, 0, 1, 0],\n",
       "       [1, 0, 0, 0, 0, 1, 0, 1, 1, 0, 1, 0, 1, 0, 0, 1, 1, 1, 1, 0],\n",
       "       [0, 0, 0, 0, 0, 1, 0, 1, 0, 0, 0, 1, 1, 1, 0, 0, 0, 0, 0, 1]])"
      ]
     },
     "execution_count": 35,
     "metadata": {},
     "output_type": "execute_result"
    }
   ],
   "source": [
    "A = np.random.randint(low=0, high=2, size=(20,20))"
   ]
  },
  {
   "cell_type": "code",
   "execution_count": null,
   "metadata": {},
   "outputs": [],
   "source": []
  },
  {
   "cell_type": "code",
   "execution_count": null,
   "metadata": {},
   "outputs": [],
   "source": []
  },
  {
   "cell_type": "code",
   "execution_count": null,
   "metadata": {},
   "outputs": [],
   "source": []
  },
  {
   "cell_type": "code",
   "execution_count": null,
   "metadata": {},
   "outputs": [],
   "source": []
  },
  {
   "cell_type": "code",
   "execution_count": null,
   "metadata": {},
   "outputs": [],
   "source": []
  }
 ],
 "metadata": {
  "kernelspec": {
   "display_name": "Python 3",
   "language": "python",
   "name": "python3"
  },
  "language_info": {
   "codemirror_mode": {
    "name": "ipython",
    "version": 3
   },
   "file_extension": ".py",
   "mimetype": "text/x-python",
   "name": "python",
   "nbconvert_exporter": "python",
   "pygments_lexer": "ipython3",
   "version": "3.7.7"
  }
 },
 "nbformat": 4,
 "nbformat_minor": 4
}
